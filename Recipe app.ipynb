{
 "cells": [
  {
   "cell_type": "code",
   "execution_count": 1,
   "id": "9abf6a06",
   "metadata": {},
   "outputs": [
    {
     "name": "stdout",
     "output_type": "stream",
     "text": [
      "Welcome to the Recipe Search App!\n",
      "\n",
      "Available Commands:\n",
      "1. Search for Recipes\n",
      "2. Exit\n",
      "Enter your choice (1/2): 1\n",
      "Enter ingredients (comma-separated): Pasta\n",
      "\n",
      "Matching Recipes:\n",
      "- Pasta with Tomato Sauce\n",
      "\n",
      "Available Commands:\n",
      "1. Search for Recipes\n",
      "2. Exit\n",
      "Enter your choice (1/2): 2\n",
      "Exiting the Recipe Search App. Goodbye!\n"
     ]
    }
   ],
   "source": [
    "class Recipe:\n",
    "    def __init__(self, name, ingredients):\n",
    "        self.name = name\n",
    "        self.ingredients = ingredients\n",
    "\n",
    "# In-memory storage for recipes (replace with a database in a real application)\n",
    "recipes = [\n",
    "    Recipe(\"Pasta with Tomato Sauce\", [\"pasta\", \"tomato sauce\", \"garlic\", \"olive oil\"]),\n",
    "    Recipe(\"Chicken Stir Fry\", [\"chicken\", \"vegetables\", \"soy sauce\", \"sesame oil\"]),\n",
    "    Recipe(\"Caprese Salad\", [\"tomatoes\", \"mozzarella\", \"basil\", \"balsamic vinegar\"]),\n",
    "]\n",
    "\n",
    "def search_recipes(query_ingredients):\n",
    "    matching_recipes = []\n",
    "\n",
    "    for recipe in recipes:\n",
    "        if all(ingredient in recipe.ingredients for ingredient in query_ingredients):\n",
    "            matching_recipes.append(recipe)\n",
    "\n",
    "    return matching_recipes\n",
    "\n",
    "def display_recipes(recipes):\n",
    "    if recipes:\n",
    "        print(\"\\nMatching Recipes:\")\n",
    "        for recipe in recipes:\n",
    "            print(f\"- {recipe.name}\")\n",
    "    else:\n",
    "        print(\"\\nNo matching recipes found.\")\n",
    "\n",
    "def main():\n",
    "    print(\"Welcome to the Recipe Search App!\")\n",
    "\n",
    "    while True:\n",
    "        print(\"\\nAvailable Commands:\")\n",
    "        print(\"1. Search for Recipes\")\n",
    "        print(\"2. Exit\")\n",
    "\n",
    "        choice = input(\"Enter your choice (1/2): \")\n",
    "\n",
    "        if choice == \"1\":\n",
    "            ingredients_input = input(\"Enter ingredients (comma-separated): \")\n",
    "            query_ingredients = [ingredient.strip().lower() for ingredient in ingredients_input.split(',')]\n",
    "            matching_recipes = search_recipes(query_ingredients)\n",
    "            display_recipes(matching_recipes)\n",
    "        elif choice == \"2\":\n",
    "            print(\"Exiting the Recipe Search App. Goodbye!\")\n",
    "            break\n",
    "        else:\n",
    "            print(\"Invalid choice. Please enter 1 or 2.\")\n",
    "\n",
    "if __name__ == \"__main__\":\n",
    "    main()\n"
   ]
  },
  {
   "cell_type": "code",
   "execution_count": null,
   "id": "f35d4a5c",
   "metadata": {},
   "outputs": [],
   "source": []
  }
 ],
 "metadata": {
  "kernelspec": {
   "display_name": "Python 3 (ipykernel)",
   "language": "python",
   "name": "python3"
  },
  "language_info": {
   "codemirror_mode": {
    "name": "ipython",
    "version": 3
   },
   "file_extension": ".py",
   "mimetype": "text/x-python",
   "name": "python",
   "nbconvert_exporter": "python",
   "pygments_lexer": "ipython3",
   "version": "3.11.4"
  }
 },
 "nbformat": 4,
 "nbformat_minor": 5
}
